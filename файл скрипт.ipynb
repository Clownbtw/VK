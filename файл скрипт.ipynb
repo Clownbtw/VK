{
 "cells": [
  {
   "cell_type": "code",
   "execution_count": 2,
   "id": "aede12f7",
   "metadata": {},
   "outputs": [],
   "source": [
    "import pandas as pd\n",
    "import joblib\n",
    "import numpy as np"
   ]
  },
  {
   "cell_type": "code",
   "execution_count": 3,
   "id": "e83013de",
   "metadata": {},
   "outputs": [],
   "source": [
    "test_data = pd.read_parquet('test.parquet')"
   ]
  },
  {
   "cell_type": "code",
   "execution_count": 4,
   "id": "9514ffba",
   "metadata": {},
   "outputs": [],
   "source": [
    "def extract_features(data):\n",
    "    features = pd.DataFrame()\n",
    "    features['mean'] = data['values'].apply(np.mean)\n",
    "    features['std'] = data['values'].apply(np.std)\n",
    "    features['max'] = data['values'].apply(np.max)\n",
    "    features['min'] = data['values'].apply(np.min)\n",
    "    features['median'] = data['values'].apply(np.median)\n",
    "    return features\n"
   ]
  },
  {
   "cell_type": "code",
   "execution_count": 5,
   "id": "51f37452",
   "metadata": {},
   "outputs": [],
   "source": [
    "X_test = extract_features(test_data)"
   ]
  },
  {
   "cell_type": "code",
   "execution_count": 6,
   "id": "6dc60f38",
   "metadata": {},
   "outputs": [],
   "source": [
    "X_test.fillna(0, inplace=True)"
   ]
  },
  {
   "cell_type": "code",
   "execution_count": 7,
   "id": "1ca2c8bd",
   "metadata": {},
   "outputs": [],
   "source": [
    "loaded_model = joblib.load('model.pkl')"
   ]
  },
  {
   "cell_type": "code",
   "execution_count": 8,
   "id": "3688c3e4",
   "metadata": {},
   "outputs": [],
   "source": [
    "predictions = loaded_model.predict_proba(X_test)[:, 1]"
   ]
  },
  {
   "cell_type": "code",
   "execution_count": 9,
   "id": "6e285786",
   "metadata": {},
   "outputs": [],
   "source": [
    "submission = pd.DataFrame({\n",
    "    'id': test_data['id'],\n",
    "    'score': predictions\n",
    "})\n",
    "submission.to_csv('submission.csv', index=False)"
   ]
  },
  {
   "cell_type": "code",
   "execution_count": null,
   "id": "776aedd8",
   "metadata": {},
   "outputs": [],
   "source": []
  }
 ],
 "metadata": {
  "kernelspec": {
   "display_name": "Python 3 (ipykernel)",
   "language": "python",
   "name": "python3"
  },
  "language_info": {
   "codemirror_mode": {
    "name": "ipython",
    "version": 3
   },
   "file_extension": ".py",
   "mimetype": "text/x-python",
   "name": "python",
   "nbconvert_exporter": "python",
   "pygments_lexer": "ipython3",
   "version": "3.11.4"
  }
 },
 "nbformat": 4,
 "nbformat_minor": 5
}
